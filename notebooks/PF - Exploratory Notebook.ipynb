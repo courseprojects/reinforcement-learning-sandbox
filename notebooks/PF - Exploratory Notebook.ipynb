{
 "cells": [
  {
   "cell_type": "markdown",
   "metadata": {},
   "source": [
    "# Exploration"
   ]
  },
  {
   "cell_type": "code",
   "execution_count": null,
   "metadata": {},
   "outputs": [],
   "source": [
    "import robosuite as suite\n",
    "import numpy as np\n",
    "\n",
    "import torch \n",
    "import torch.nn as nn\n",
    "import torch.nn.functional as F\n",
    "import torch.optim as optim\n",
    "import torch.distributions as dist\n",
    "from torch.autograd import Variable"
   ]
  },
  {
   "cell_type": "code",
   "execution_count": null,
   "metadata": {},
   "outputs": [],
   "source": [
    "class Args:\n",
    "    hidden_size = 256\n",
    "    max_mem_size=2000\n",
    "    tau=0.001\n",
    "    batch_size=64\n",
    "    lr=0.001\n",
    "    lr_actor = 0.0001\n",
    "    lr_critic = 0.001\n",
    "    epsilon=10000\n",
    "    warmup=100\n",
    "    gamma=0.99\n",
    "    theta=0\n",
    "    num_episodes=50\n",
    "    horizon=10\n",
    "    num_epochs=100\n",
    "    env_name='Lift'\n",
    "    robot='Panda'\n",
    "    seed=1\n",
    "\n",
    "args=Args()\n",
    "\n",
    "env = suite.make(\n",
    "        env_name=args.env_name,\n",
    "        robots=args.robot,\n",
    "        has_renderer=True,\n",
    "        has_offscreen_renderer=False,\n",
    "        use_camera_obs=False,\n",
    "        use_object_obs=True,                    \n",
    "        horizon = 150, \n",
    "        reward_shaping=True                 \n",
    "    )\n",
    "obs = env.reset()\n",
    "state_dim = obs['robot0_robot-state'].shape[0]+obs['object-state'].shape[0]\n",
    "agent = DDPG(state_dim, env.action_dim, args)\n",
    "agent.actor = torch.load('/Users/peterfagan/Desktop/test-run.pt')\n",
    "agent.actor.eval()\n",
    "done=False\n",
    "\n",
    "while done==False: \n",
    "    state = np.append(obs['robot0_robot-state'],obs['object-state'])\n",
    "    action = agent.select_action(state)\n",
    "    obs, reward,done, info = env.step(action)\n",
    "    agent.observe(reward, state, done)\n",
    "    env.render()   \n"
   ]
  }
 ],
 "metadata": {
  "kernelspec": {
   "display_name": "Python 3",
   "language": "python",
   "name": "python3"
  },
  "language_info": {
   "codemirror_mode": {
    "name": "ipython",
    "version": 3
   },
   "file_extension": ".py",
   "mimetype": "text/x-python",
   "name": "python",
   "nbconvert_exporter": "python",
   "pygments_lexer": "ipython3",
   "version": "3.8.5"
  }
 },
 "nbformat": 4,
 "nbformat_minor": 4
}
