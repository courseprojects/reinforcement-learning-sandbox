{
 "cells": [
  {
   "cell_type": "markdown",
   "metadata": {},
   "source": [
    "# Exploration"
   ]
  },
  {
   "cell_type": "code",
   "execution_count": 1,
   "metadata": {},
   "outputs": [],
   "source": [
    "import robosuite as suite\n",
    "import numpy as np\n",
    "\n",
    "import torch \n",
    "import torch.nn as nn\n",
    "import torch.nn.functional as F\n",
    "import torch.optim as optim\n",
    "import torch.distributions as dist\n",
    "from torch.autograd import Variable"
   ]
  },
  {
   "cell_type": "code",
   "execution_count": 2,
   "metadata": {},
   "outputs": [],
   "source": [
    "env = suite.make(\n",
    "    env_name=\"Lift\",\n",
    "    robots=\"Panda\",\n",
    "    has_renderer=False,\n",
    "    has_offscreen_renderer=False,\n",
    "    use_camera_obs=False,\n",
    "    use_object_obs=True,                    \n",
    "    horizon = 200, \n",
    "    reward_shaping=True                 \n",
    ")\n",
    "\n",
    "obs = env.reset()\n",
    "done = False       \n"
   ]
  },
  {
   "cell_type": "markdown",
   "metadata": {},
   "source": [
    "# REINFORCE Model Debug"
   ]
  },
  {
   "cell_type": "code",
   "execution_count": 102,
   "metadata": {},
   "outputs": [],
   "source": [
    "import robosuite as suite\n",
    "import numpy as np\n",
    "import math\n",
    "\n",
    "import torch \n",
    "import torch.nn as nn\n",
    "import torch.nn.functional as F\n",
    "import torch.optim as optim\n",
    "import torch.distributions as dist\n",
    "from torch.autograd import Variable\n",
    "device = torch.device(\"cuda\" if torch.cuda.is_available() else \"cpu\")\n",
    "\n",
    "pi = Variable(torch.FloatTensor([math.pi])).to(device)\n",
    "\n",
    "def normal(x, mu, sigma_sq):\n",
    "    a = (-1*(Variable(x)-mu).pow(2)/(2*sigma_sq)).exp()\n",
    "    b = 1/(2*sigma_sq*pi).sqrt()\n",
    "    return a*b\n",
    "    \n",
    "\n",
    "class REINFORCEPolicy(nn.Module):\n",
    "    '''\n",
    "    This class represent our policy parameterization.\n",
    "    '''\n",
    "    def __init__(self, state_dim,action_dim):\n",
    "        super(REINFORCEPolicy, self).__init__()\n",
    "        self.state_dim = state_dim\n",
    "        self.action_dim = action_dim\n",
    "        \n",
    "        self.l1 = nn.Linear(self.state_dim, 128, bias = False)\n",
    "        self.l2 = nn.Linear(128, self.action_dim*2, bias = False)\n",
    "\n",
    "    def forward(self,x):\n",
    "        model = nn.Sequential(\n",
    "            self.l1,\n",
    "            nn.Dropout(p=0.6),\n",
    "            nn.ReLU(),\n",
    "            self.l2,\n",
    "            nn.Softmax(dim=-1)\n",
    "         )\n",
    "        return model(x)\n",
    "    \n",
    "    \n",
    "class REINFORCE:\n",
    "    '''\n",
    "    This class encapsulates functionality required to run the REINFORCE algorithm.\n",
    "    '''\n",
    "    def __init__(self, state_dim,action_dim, gamma, episodes):\n",
    "        self.state_dim = state_dim\n",
    "        self.action_dim = action_dim\n",
    "        self.model = REINFORCEPolicy(state_dim, action_dim)\n",
    "        self.model = self.model.to(device)\n",
    "        self.optimizer = optim.Adam(self.model.parameters(), lr = 1e-3)\n",
    "        self.model.train()\n",
    "        \n",
    "        self.gamma = gamma\n",
    "        self.episodes = episodes\n",
    "        \n",
    "        \n",
    "    def select_action(self, state):\n",
    "        actions = []\n",
    "        log_probs = []\n",
    "        outputs = self.model(Variable(state).to(device)) \n",
    "        for i in range(self.action_dim):\n",
    "            mu = outputs[i]\n",
    "            sigma_sq = outputs[i+1]\n",
    "            sigma_sq = F.softplus(sigma_sq) # ensures that the estimate is always positive\n",
    "\n",
    "            eps = torch.randn(mu.size())\n",
    "            action = (mu + sigma_sq.sqrt()*Variable(eps).to(device)).data\n",
    "            prob = normal(action, mu, sigma_sq)\n",
    "            log_prob = prob.log()\n",
    "            actions.append(action)\n",
    "            log_probs.append(log_prob)\n",
    "        \n",
    "        return actions, log_probs\n",
    "    \n",
    "    def episode_update_parameters(self, rewards, log_probs):\n",
    "        R = torch.zeros(1, 1)\n",
    "        loss = torch.zeros(self.action_dim)\n",
    "        for i in reversed(range(len(rewards))):\n",
    "            R = self.gamma * R + rewards[0][i]\n",
    "            for j in range(self.action_dim):\n",
    "                loss[j] = loss[j] - (log_probs[0][i][j]*(Variable(R.data.squeeze()).expand_as(log_probs[0][i][j])).to(device)).sum()\n",
    "        loss = loss.sum()\n",
    "        loss = loss / len(rewards)\n",
    "\n",
    "        self.optimizer.zero_grad()\n",
    "        loss.backward()\n",
    "        self.optimizer.step()\n",
    "        \n",
    "        \n",
    "    def epoch_update_parameters(self, rewards, log_probs):\n",
    "        R = torch.zeros(self.episodes)\n",
    "        loss = torch.zeros(self.episodes,self.action_dim)\n",
    "        for episode in range(self.episodes):\n",
    "            for i in reversed(range(horizon)):\n",
    "                R[episode] = self.gamma * R[episode] + rewards[episode][i]\n",
    "                for j in range(self.action_dim):\n",
    "                    loss[episode][j] = loss[episode][j] - (log_probs[episode][i][j]*(Variable(R[episode].data.squeeze()).expand_as(log_probs[episode][i][j])).to(device)).sum()\n",
    "        \n",
    "        loss = loss.sum(dim=0)/self.episodes\n",
    "        loss = loss.sum()\n",
    "\n",
    "\n",
    "        self.optimizer.zero_grad()\n",
    "        loss.backward()\n",
    "        self.optimizer.step()\n",
    "    "
   ]
  },
  {
   "cell_type": "code",
   "execution_count": 104,
   "metadata": {},
   "outputs": [
    {
     "name": "stdout",
     "output_type": "stream",
     "text": [
      "Episode: 1, Rewards: 0.008341928133672247\n"
     ]
    }
   ],
   "source": [
    "#from models.REINFORCE import REINFORCE\n",
    "\n",
    "device = torch.device(\"cuda\" if torch.cuda.is_available() else \"cpu\")\n",
    "\n",
    "env = suite.make(\n",
    "    env_name=\"Lift\",\n",
    "    robots=\"Panda\",\n",
    "    has_renderer=False,\n",
    "    has_offscreen_renderer=False,\n",
    "    use_camera_obs=False,\n",
    "    use_object_obs=True,                    \n",
    "    horizon = 20, \n",
    "    reward_shaping=True                 \n",
    ")\n",
    "obs = env.reset()\n",
    "state_dim = obs['robot0_robot-state'].shape[0]+obs['object-state'].shape[0]\n",
    "\n",
    "\n",
    "agent = REINFORCE(state_dim,env.action_dim,0.99,2)\n",
    "\n",
    "log_probs = [[] for i in range(2)]\n",
    "rewards = [[] for i in range(2)]\n",
    "for episode in range(2):\n",
    "    obs=env.reset()\n",
    "    state = torch.Tensor(np.append(obs['robot0_robot-state'],obs['object-state']))\n",
    "    done=False\n",
    "    while done==False: \n",
    "        action, log_prob = agent.select_action(state)\n",
    "        obs, reward, done, info = env.step(action)\n",
    "        log_probs[episode].append(log_prob)\n",
    "        rewards[episode].append(reward)\n",
    "        \n",
    "agent.epoch_update_parameters(rewards, log_probs)\n",
    "print('Episode: {}, Rewards: {}'.format(episode, np.mean(rewards)))\n",
    "\n"
   ]
  },
  {
   "cell_type": "code",
   "execution_count": 116,
   "metadata": {},
   "outputs": [
    {
     "data": {
      "text/plain": [
       "0.16683856267344493"
      ]
     },
     "execution_count": 116,
     "metadata": {},
     "output_type": "execute_result"
    }
   ],
   "source": [
    "np.sum(rewards,axis=1).mean()"
   ]
  },
  {
   "cell_type": "code",
   "execution_count": 106,
   "metadata": {},
   "outputs": [
    {
     "data": {
      "text/plain": [
       "20"
      ]
     },
     "execution_count": 106,
     "metadata": {},
     "output_type": "execute_result"
    }
   ],
   "source": [
    "len(log_probs[0])"
   ]
  },
  {
   "cell_type": "code",
   "execution_count": 109,
   "metadata": {},
   "outputs": [
    {
     "data": {
      "text/plain": [
       "20"
      ]
     },
     "execution_count": 109,
     "metadata": {},
     "output_type": "execute_result"
    }
   ],
   "source": [
    "len(log_probs[0])"
   ]
  },
  {
   "cell_type": "code",
   "execution_count": null,
   "metadata": {},
   "outputs": [],
   "source": []
  },
  {
   "cell_type": "code",
   "execution_count": null,
   "metadata": {},
   "outputs": [],
   "source": []
  },
  {
   "cell_type": "code",
   "execution_count": 68,
   "metadata": {},
   "outputs": [],
   "source": [
    "episodes = 2\n",
    "horizon = 20\n",
    "gamma = 0.99\n",
    "R = torch.zeros(episodes)\n",
    "loss = torch.zeros(episodes,8)"
   ]
  },
  {
   "cell_type": "code",
   "execution_count": 69,
   "metadata": {},
   "outputs": [
    {
     "data": {
      "text/plain": [
       "tensor([0.5817, 0.7244, 0.6377, 0.7238, 0.6817, 0.7885, 0.6493, 0.6641],\n",
       "       grad_fn=<DivBackward0>)"
      ]
     },
     "execution_count": 69,
     "metadata": {},
     "output_type": "execute_result"
    }
   ],
   "source": [
    "for episode in range(episodes):\n",
    "            for i in reversed(range(horizon)):\n",
    "                R[episode] = gamma * R[episode] + rewards[(episode*horizon)+i]\n",
    "                for j in range(8):\n",
    "                    loss[episode][j] = loss[episode][j] - (log_probs[(episode*horizon)+i][j]*(Variable(R[episode].data.squeeze()).expand_as(log_probs[(episode*horizon)+i][j])).to(device)).sum()\n",
    "loss = loss.sum(dim=0)/episodes\n",
    "loss = loss.sum()\n",
    "\n",
    "self.optimizer.zero_grad()\n",
    "loss.backward()\n",
    "self.optimizer.step()"
   ]
  },
  {
   "cell_type": "code",
   "execution_count": 63,
   "metadata": {},
   "outputs": [
    {
     "data": {
      "text/plain": [
       "tensor([1.2589, 0.8853, 0.9779, 0.7818, 0.9009, 0.9727, 1.4290, 1.0984],\n",
       "       grad_fn=<SumBackward1>)"
      ]
     },
     "execution_count": 63,
     "metadata": {},
     "output_type": "execute_result"
    }
   ],
   "source": [
    "loss.sum(dim=0)"
   ]
  },
  {
   "cell_type": "code",
   "execution_count": 45,
   "metadata": {},
   "outputs": [
    {
     "data": {
      "text/plain": [
       "tensor(0.)"
      ]
     },
     "execution_count": 45,
     "metadata": {},
     "output_type": "execute_result"
    }
   ],
   "source": [
    "loss[0][episode][0]"
   ]
  },
  {
   "cell_type": "code",
   "execution_count": 40,
   "metadata": {},
   "outputs": [
    {
     "data": {
      "text/plain": [
       "tensor([[0.0377, 0.0359]])"
      ]
     },
     "execution_count": 40,
     "metadata": {},
     "output_type": "execute_result"
    }
   ],
   "source": [
    "R"
   ]
  },
  {
   "cell_type": "code",
   "execution_count": 9,
   "metadata": {},
   "outputs": [
    {
     "data": {
      "text/plain": [
       "[0.007720971233944773,\n",
       " 0.008050656185023443,\n",
       " 0.007641773727107282,\n",
       " 0.006408437301586319,\n",
       " 0.005110664368602277,\n",
       " 0.004016619519829481,\n",
       " 0.0032642840746705598,\n",
       " 0.0028498603091401025,\n",
       " 0.0024848124678070365,\n",
       " 0.002174340756667892,\n",
       " 0.00201399682843152,\n",
       " 0.0019511273497495472,\n",
       " 0.0018951895923540677,\n",
       " 0.001807529591167404,\n",
       " 0.0017130852195461127,\n",
       " 0.0015890226342465889,\n",
       " 0.0014411035413355556,\n",
       " 0.001303104369399498,\n",
       " 0.001124100094441823,\n",
       " 0.0009662002557617733,\n",
       " 0.008891991511901577,\n",
       " 0.008312884525828877,\n",
       " 0.007189653794190873,\n",
       " 0.005917250284210516,\n",
       " 0.0046820103640285,\n",
       " 0.0035081150844539343,\n",
       " 0.0025019157850621906,\n",
       " 0.0018251974378898793,\n",
       " 0.001457994976533477,\n",
       " 0.001247136435338605,\n",
       " 0.0010728351479341036,\n",
       " 0.0009510054918916309,\n",
       " 0.0008633183783107117,\n",
       " 0.0007855179169756137,\n",
       " 0.0007477981487271634,\n",
       " 0.0007435465526680494,\n",
       " 0.0007600592000800926,\n",
       " 0.0007625826452190626,\n",
       " 0.0008296643391220036,\n",
       " 0.000999251797593834]"
      ]
     },
     "execution_count": 9,
     "metadata": {},
     "output_type": "execute_result"
    }
   ],
   "source": [
    "rewards"
   ]
  },
  {
   "cell_type": "code",
   "execution_count": 4,
   "metadata": {},
   "outputs": [],
   "source": [
    "torch.save(agent.model.state_dict(),'model_params.pkl')"
   ]
  },
  {
   "cell_type": "markdown",
   "metadata": {},
   "source": [
    "## Observing learnt behavior"
   ]
  },
  {
   "cell_type": "code",
   "execution_count": 9,
   "metadata": {},
   "outputs": [
    {
     "name": "stdout",
     "output_type": "stream",
     "text": [
      "Creating window glfw\n",
      "Creating window glfw\n"
     ]
    }
   ],
   "source": [
    "env = suite.make(\n",
    "    env_name=\"Lift\",\n",
    "    robots=\"Panda\",\n",
    "    has_renderer=True,\n",
    "    has_offscreen_renderer=False,\n",
    "    use_camera_obs=False,\n",
    "    use_object_obs=True,                    \n",
    "    horizon = 200, \n",
    "    reward_shaping=True                 \n",
    ")\n",
    "obs=env.reset()\n",
    "state = torch.Tensor(np.append(obs['robot0_robot-state'],obs['object-state']))\n",
    "done=False\n",
    "log_probs = []\n",
    "rewards = []\n",
    "while done==False: \n",
    "    action, log_prob = agent.select_action(state)\n",
    "    obs, reward, done, info = env.step(action)\n",
    "    log_probs.append(log_prob)\n",
    "    rewards.append(reward)\n",
    "    env.render()"
   ]
  },
  {
   "cell_type": "code",
   "execution_count": null,
   "metadata": {},
   "outputs": [],
   "source": []
  },
  {
   "cell_type": "code",
   "execution_count": null,
   "metadata": {},
   "outputs": [],
   "source": []
  },
  {
   "cell_type": "code",
   "execution_count": 16,
   "metadata": {},
   "outputs": [
    {
     "data": {
      "text/plain": [
       "tensor([[[0., 0., 0.],\n",
       "         [0., 0., 0.],\n",
       "         [0., 0., 0.],\n",
       "         [0., 0., 0.],\n",
       "         [0., 0., 0.]]])"
      ]
     },
     "execution_count": 16,
     "metadata": {},
     "output_type": "execute_result"
    }
   ],
   "source": [
    "torch.zeros(1,5,3)"
   ]
  },
  {
   "cell_type": "markdown",
   "metadata": {},
   "source": [
    "# PPO Model Debug"
   ]
  },
  {
   "cell_type": "code",
   "execution_count": null,
   "metadata": {},
   "outputs": [],
   "source": []
  },
  {
   "cell_type": "markdown",
   "metadata": {},
   "source": [
    "# DDPG Model Debug"
   ]
  },
  {
   "cell_type": "code",
   "execution_count": null,
   "metadata": {},
   "outputs": [],
   "source": []
  }
 ],
 "metadata": {
  "kernelspec": {
   "display_name": "Python 3",
   "language": "python",
   "name": "python3"
  },
  "language_info": {
   "codemirror_mode": {
    "name": "ipython",
    "version": 3
   },
   "file_extension": ".py",
   "mimetype": "text/x-python",
   "name": "python",
   "nbconvert_exporter": "python",
   "pygments_lexer": "ipython3",
   "version": "3.8.5"
  }
 },
 "nbformat": 4,
 "nbformat_minor": 4
}
