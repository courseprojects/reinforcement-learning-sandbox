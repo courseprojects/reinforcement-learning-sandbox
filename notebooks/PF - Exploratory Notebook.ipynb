{
 "cells": [
  {
   "cell_type": "markdown",
   "metadata": {},
   "source": [
    "# Exploration"
   ]
  },
  {
   "cell_type": "code",
   "execution_count": null,
   "metadata": {},
   "outputs": [],
   "source": [
    "import robosuite as suite\n",
    "import numpy as np\n",
    "\n",
    "import torch \n",
    "import torch.nn as nn\n",
    "import torch.nn.functional as F\n",
    "import torch.optim as optim\n",
    "import torch.distributions as dist\n",
    "from torch.autograd import Variable"
   ]
  },
  {
   "cell_type": "code",
   "execution_count": null,
   "metadata": {},
   "outputs": [],
   "source": [
    "env = suite.make(\n",
    "    env_name=\"Lift\",\n",
    "    robots=\"Panda\",\n",
    "    has_renderer=False,\n",
    "    has_offscreen_renderer=False,\n",
    "    use_camera_obs=False,\n",
    "    use_object_obs=True,                    \n",
    "    horizon = 200, \n",
    "    reward_shaping=True                 \n",
    ")\n",
    "\n",
    "obs = env.reset()\n",
    "done = False       \n"
   ]
  },
  {
   "cell_type": "markdown",
   "metadata": {},
   "source": [
    "# REINFORCE Model Debug"
   ]
  },
  {
   "cell_type": "code",
   "execution_count": null,
   "metadata": {},
   "outputs": [],
   "source": [
    "env = suite.make(\n",
    "    env_name=\"Lift\",\n",
    "    robots=\"Panda\",\n",
    "    has_renderer=False,\n",
    "    has_offscreen_renderer=False,\n",
    "    use_camera_obs=False,\n",
    "    use_object_obs=True,                    \n",
    "    horizon = 200, \n",
    "    reward_shaping=True                 \n",
    ")\n",
    "obs = env.reset()\n",
    "done = False \n",
    "\n"
   ]
  },
  {
   "cell_type": "code",
   "execution_count": null,
   "metadata": {},
   "outputs": [],
   "source": [
    "#         self.robot_dim = len(env.observation_spec()['robot0_robot-state'])\n",
    "#         self.object_dim = len(env.observation_spec()['object-state'])\n",
    "#         self.state_dim = self.robot_dim + self.object_dim\n",
    "#         self.gamma = gamma\n",
    "\n",
    "#         self.policy_history = torch.Tensor(Variable())\n",
    "#         self.reward_episode = []\n",
    "#         self.reward_history = []\n",
    "#         self.loss_history = []\n",
    "\n",
    "\n",
    "  def __init__(self, state_dim,action_dim):\n",
    "        super(REINFORCEPolicy, self).__init__()\n",
    "        self.state_dim = state_dim\n",
    "        self.action_dim = action_dim\n",
    "        \n",
    "        self.l1_shared = nn.Linear(self.state_dim, 128, bias = False)\n",
    "        self.d1 = nn.Dropout(p=0.6)\n",
    "        self.r1 = nn.ReLU()\n",
    "        self.l2_shared = nn.Linear(128, 128, bias = False)\n",
    "        self.a_1 = nn.Sequential(nn.Linear(128, 2, bias = False),nn.Softmax(dim=-1))\n",
    "        self.a_2 = nn.Sequential(nn.Linear(128, 2, bias = False),nn.Softmax(dim=-1))\n",
    "        self.a_3 = nn.Sequential(nn.Linear(128, 2, bias = False),nn.Softmax(dim=-1))\n",
    "        self.a_4 = nn.Sequential(nn.Linear(128, 2, bias = False),nn.Softmax(dim=-1))\n",
    "        self.a_5 = nn.Sequential(nn.Linear(128, 2, bias = False),nn.Softmax(dim=-1))\n",
    "        self.a_6 = nn.Sequential(nn.Linear(128, 2, bias = False),nn.Softmax(dim=-1))\n",
    "        self.a_7 = nn.Sequential(nn.Linear(128, 2, bias = False),nn.Softmax(dim=-1))\n",
    "        self.a_8 = nn.Sequential(nn.Linear(128, 2, bias = False),nn.Softmax(dim=-1))\n",
    "\n",
    "    def forward(self,x):\n",
    "        x = self.l1_shared(x)\n",
    "        x = self.d1(x)\n",
    "        x = self.r1(x)\n",
    "        x = self.l2_shared(x)\n",
    "        a_1 = self.a_1(x)\n",
    "        a_2 = self.a_2(x)\n",
    "        a_3 = self.a_3(x)\n",
    "        a_4 = self.a_4(x)\n",
    "        a_5 = self.a_5(x)\n",
    "        a_6 = self.a_6(x)\n",
    "        a_7 = self.a_7(x)\n",
    "        a_8 = self.a_8(x)\n",
    "\n",
    "        \n",
    "        return a_1, a_2, a_3, a_4, a_5, a_6, a_7, a_8"
   ]
  },
  {
   "cell_type": "code",
   "execution_count": 3,
   "metadata": {},
   "outputs": [],
   "source": [
    "import robosuite as suite\n",
    "import numpy as np\n",
    "import math\n",
    "\n",
    "import torch \n",
    "import torch.nn as nn\n",
    "import torch.nn.functional as F\n",
    "import torch.optim as optim\n",
    "import torch.distributions as dist\n",
    "from torch.autograd import Variable\n",
    "\n",
    "pi = Variable(torch.FloatTensor([math.pi])) #.cuda()\n",
    "\n",
    "def normal(x, mu, sigma_sq):\n",
    "    a = (-1*(Variable(x)-mu).pow(2)/(2*sigma_sq)).exp()\n",
    "    b = 1/(2*sigma_sq*pi).sqrt()\n",
    "    return a*b\n",
    "    \n",
    "\n",
    "class REINFORCEPolicy(nn.Module):\n",
    "    '''\n",
    "    This class represent our policy parameterization.\n",
    "    '''\n",
    "    def __init__(self, state_dim,action_dim):\n",
    "        super(REINFORCEPolicy, self).__init__()\n",
    "        self.state_dim = state_dim\n",
    "        self.action_dim = action_dim\n",
    "        \n",
    "        self.l1 = nn.Linear(self.state_dim, 128, bias = False)\n",
    "        self.l2 = nn.Linear(128, self.action_dim*2, bias = False)\n",
    "\n",
    "    def forward(self,x):\n",
    "        model = nn.Sequential(\n",
    "            self.l1,\n",
    "            nn.Dropout(p=0.6),\n",
    "            nn.ReLU(),\n",
    "            self.l2,\n",
    "            nn.Softmax(dim=-1)\n",
    "         )\n",
    "        return model(x)\n",
    "    \n",
    "    \n",
    "class REINFORCE:\n",
    "    '''\n",
    "    This class encapsulates functionality required to run the REINFORCE algorithm.\n",
    "    '''\n",
    "    def __init__(self, state_dim,action_dim):\n",
    "        self.state_dim = state_dim\n",
    "        self.action_dim = action_dim\n",
    "        self.model = REINFORCEPolicy(state_dim, action_dim)\n",
    "        self.model = self.model.to(device)\n",
    "        self.optimizer = optim.Adam(self.model.parameters(), lr = 1e-3)\n",
    "        self.model.train()\n",
    "        \n",
    "    def select_action(self, state):\n",
    "        actions = []\n",
    "        log_probs = []\n",
    "        outputs = self.model(Variable(state).to(device)) \n",
    "        for i in range(self.action_dim):\n",
    "            mu = outputs[i]\n",
    "            sigma_sq = outputs[i+1]\n",
    "            sigma_sq = F.softplus(sigma_sq) # ensures that the estimate is always positive\n",
    "\n",
    "            eps = torch.randn(mu.size())\n",
    "            action = (mu + sigma_sq.sqrt()*Variable(eps).to(device)).data\n",
    "            prob = normal(action, mu, sigma_sq)\n",
    "            log_prob = prob.log()\n",
    "            actions.append(action)\n",
    "            log_probs.append(log_prob)\n",
    "        \n",
    "        return actions, log_probs\n",
    "        \n",
    "        \n",
    "    def update_parameters(self, rewards, log_probs, gamma):\n",
    "        R = torch.zeros(1, 1)\n",
    "        loss = torch.zeros(self.action_dim)\n",
    "        for i in reversed(range(len(rewards))):\n",
    "            for j in range(self.action_dim):\n",
    "                R = gamma * R + rewards[i]\n",
    "                loss[j] = loss[j] - (log_probs[i][j]*(Variable(R.data.squeeze()).expand_as(log_probs[i][j])).to(device)).sum()\n",
    "        loss = loss.sum()\n",
    "        loss = loss / len(rewards)\n",
    "\n",
    "        self.optimizer.zero_grad()\n",
    "        loss.backward()\n",
    "        self.optimizer.step()\n",
    "    "
   ]
  },
  {
   "cell_type": "code",
   "execution_count": 4,
   "metadata": {},
   "outputs": [
    {
     "name": "stdout",
     "output_type": "stream",
     "text": [
      "Episode: 0, Rewards: 0.7731841640350652\n",
      "Episode: 1, Rewards: 0.06702735149144877\n",
      "Episode: 2, Rewards: 0.5133513507462013\n",
      "Episode: 3, Rewards: 0.15580513649171013\n",
      "Episode: 4, Rewards: 0.18962087665444205\n",
      "Episode: 5, Rewards: 0.057104365453782314\n",
      "Episode: 6, Rewards: 0.29105300958408264\n",
      "Episode: 7, Rewards: 0.7670369453372128\n",
      "Episode: 8, Rewards: 0.23440469122971627\n",
      "Episode: 9, Rewards: 0.29720808879881055\n"
     ]
    }
   ],
   "source": [
    "#from models.REINFORCE import REINFORCE\n",
    "\n",
    "device = torch.device(\"cuda\" if torch.cuda.is_available() else \"cpu\")\n",
    "\n",
    "env = suite.make(\n",
    "    env_name=\"Lift\",\n",
    "    robots=\"Panda\",\n",
    "    has_renderer=False,\n",
    "    has_offscreen_renderer=False,\n",
    "    use_camera_obs=False,\n",
    "    use_object_obs=True,                    \n",
    "    horizon = 200, \n",
    "    reward_shaping=True                 \n",
    ")\n",
    "obs = env.reset()\n",
    "state_dim = obs['robot0_robot-state'].shape[0]+obs['object-state'].shape[0]\n",
    "\n",
    "\n",
    "agent = REINFORCE(state_dim,env.action_dim)\n",
    "\n",
    "for episode in range(10):\n",
    "    obs=env.reset()\n",
    "    state = torch.Tensor(np.append(obs['robot0_robot-state'],obs['object-state']))\n",
    "    done=False\n",
    "    log_probs = []\n",
    "    rewards = []\n",
    "    while done==False: \n",
    "        action, log_prob = agent.select_action(state)\n",
    "        obs, reward, done, info = env.step(action)\n",
    "        log_probs.append(log_prob)\n",
    "        rewards.append(reward)\n",
    "        \n",
    "    agent.update_parameters(rewards, log_probs, 0.99)\n",
    "    print('Episode: {}, Rewards: {}'.format(episode, np.sum(rewards)))\n",
    "\n",
    "    "
   ]
  },
  {
   "cell_type": "code",
   "execution_count": null,
   "metadata": {},
   "outputs": [],
   "source": [
    "env = suite.make(\n",
    "    env_name=\"Lift\",\n",
    "    robots=\"Panda\",\n",
    "    has_renderer=True,\n",
    "    has_offscreen_renderer=False,\n",
    "    use_camera_obs=False,\n",
    "    use_object_obs=True,                    \n",
    "    horizon = 200, \n",
    "    reward_shaping=True                 \n",
    ")\n",
    "obs=env.reset()\n",
    "state = torch.Tensor(np.append(obs['robot0_robot-state'],obs['object-state']))\n",
    "done=False\n",
    "log_probs = []\n",
    "rewards = []\n",
    "while done==False: \n",
    "    action = np.random.randn(8)\n",
    "    obs, reward, done, info = env.step(action)\n",
    "#     log_probs.append(log_prob)\n",
    "#     rewards.append(reward)\n",
    "    env.render()"
   ]
  },
  {
   "cell_type": "code",
   "execution_count": null,
   "metadata": {},
   "outputs": [],
   "source": [
    "log_probs[1][0]"
   ]
  },
  {
   "cell_type": "code",
   "execution_count": null,
   "metadata": {},
   "outputs": [],
   "source": [
    "R.data.squeeze()"
   ]
  },
  {
   "cell_type": "code",
   "execution_count": null,
   "metadata": {},
   "outputs": [],
   "source": [
    "Variable(R.data.squeeze()).expand_as(log_probs[0][0])"
   ]
  },
  {
   "cell_type": "code",
   "execution_count": null,
   "metadata": {},
   "outputs": [],
   "source": [
    "gamma=0.99\n",
    "R = torch.zeros(1, 1)\n",
    "loss = torch.zeroes(self.action_dim)\n",
    "for i in reversed(range(len(rewards))):\n",
    "    for j in range(self.action_dim):\n",
    "    R = gamma * R + rewards[i]\n",
    "    loss[j] = loss[j] - (log_probs[i][j]*(Variable(R.data.squeeze()).expand_as(log_probs[i][j]))).sum() #.cuda()\n",
    "loss = loss.sum()\n",
    "loss = loss / len(rewards)\n",
    "\n",
    "self.optimizer.zero_grad()\n",
    "loss.backward()\n",
    "self.optimizer.step()"
   ]
  },
  {
   "cell_type": "code",
   "execution_count": null,
   "metadata": {},
   "outputs": [],
   "source": [
    "torch.zeros(8)[0]"
   ]
  },
  {
   "cell_type": "code",
   "execution_count": null,
   "metadata": {},
   "outputs": [],
   "source": []
  },
  {
   "cell_type": "code",
   "execution_count": null,
   "metadata": {},
   "outputs": [],
   "source": []
  },
  {
   "cell_type": "code",
   "execution_count": null,
   "metadata": {},
   "outputs": [],
   "source": []
  },
  {
   "cell_type": "code",
   "execution_count": null,
   "metadata": {},
   "outputs": [],
   "source": [
    "def select_action(obs):\n",
    "    '''This function outputs the required actlion torques'''\n",
    "    state = np.append(obs['robot0_robot-state'], obs['object-state'])\n",
    "    state = torch.from_numpy(state).type(torch.FloatTensor)\n",
    "    parameters = policy(state)\n",
    "    actions = []\n",
    "    log_probs = torch.Tensor(Variable())\n",
    "    for mu, std in zip(*[iter(parameters)]*2):\n",
    "        pdf = dist.Normal(mu,std)\n",
    "        sample = pdf.sample()\n",
    "        actions.append(sample)\n",
    "        if log_probs.nelement()!=0:\n",
    "            log_probs = torch.cat((log_probs,pdf.log_prob(sample).unsqueeze(0)))\n",
    "        else:\n",
    "            log_probs = (pdf.log_prob(sample).unsqueeze(0))\n",
    "    if policy.policy_history.nelement()!=0:\n",
    "            policy.policy_history = torch.cat((policy.policy_history,log_probs))\n",
    "    else:\n",
    "        policy.policy_history = log_probs       \n",
    "    return actions"
   ]
  },
  {
   "cell_type": "code",
   "execution_count": null,
   "metadata": {},
   "outputs": [],
   "source": [
    "def update_policy():\n",
    "    R = 0\n",
    "    rewards = []\n",
    "\n",
    "    for r in policy.reward_episode[::-1]:\n",
    "        R = r + policy.gamma * R\n",
    "        for i in range(policy.action_dim):\n",
    "            rewards.insert(0,R)\n",
    "    # Loop through hist with for loop\n",
    "    loss_steps = torch.mul(policy.policy_history,torch.Tensor(rewards)).mul(-1)\n",
    "    loss_steps = loss_steps.view(-1,8)\n",
    "    for entry in loss_steps:\n",
    "        print(entry)\n",
    "        print(len(entry))\n",
    "        loss = entry\n",
    "        optimizer.zero_grad()\n",
    "        loss.sum().backward(retain_graph=True)\n",
    "        optimizer.step()\n",
    "\n",
    "    #Save and intialize episode history counters\n",
    "    policy.loss_history.append(sum(loss_steps))\n",
    "    policy.reward_history.append(np.sum(policy.reward_episode))\n",
    "    policy.policy_history = Variable(torch.Tensor())\n",
    "    policy.reward_episode= []"
   ]
  },
  {
   "cell_type": "code",
   "execution_count": null,
   "metadata": {},
   "outputs": [],
   "source": [
    "for episode in range(10):\n",
    "    obs = env.reset()\n",
    "    done = False  \n",
    "    \n",
    "    while done==False:\n",
    "        action = select_action(obs)\n",
    "        obs, reward, done, info = env.step(action)\n",
    "        policy.reward_episode.append(reward)\n",
    "    update_policy()\n",
    "    print('Episode {}, Reward {}'.format(episode, policy.reward_episode[-1]))"
   ]
  },
  {
   "cell_type": "code",
   "execution_count": null,
   "metadata": {},
   "outputs": [],
   "source": []
  },
  {
   "cell_type": "code",
   "execution_count": null,
   "metadata": {},
   "outputs": [],
   "source": [
    "def main(episodes):\n",
    "    running_reward = 10\n",
    "    for episode in range(episodes):\n",
    "        state = env.reset() # Reset environment and record the starting state\n",
    "        done = False       \n",
    "    \n",
    "        for time in range(1000):\n",
    "            action = select_action(state)\n",
    "            # Step through environment using chosen action\n",
    "            state, reward, done, _ = env.step(action.data[0])\n",
    "# Save reward\n",
    "            policy.reward_episode.append(reward)\n",
    "            if done:\n",
    "                break\n",
    "        \n",
    "        # Used to determine when the environment is solved.\n",
    "        running_reward = (running_reward * 0.99) + (time * 0.01)\n",
    "update_policy()\n",
    "if episode % 50 == 0:\n",
    "            print('Episode {}\\tLast length: {:5d}\\tAverage length: {:.2f}'.format(episode, time, running_reward))\n",
    "if running_reward > env.spec.reward_threshold:\n",
    "            print(\"Solved! Running reward is now {} and the last episode runs to {} time steps!\".format(running_reward, time))\n",
    "            break"
   ]
  },
  {
   "cell_type": "code",
   "execution_count": null,
   "metadata": {},
   "outputs": [],
   "source": [
    "def train():\n",
    "    '''This function trains the network'''"
   ]
  },
  {
   "cell_type": "markdown",
   "metadata": {},
   "source": [
    "# PPO Model Debug"
   ]
  },
  {
   "cell_type": "code",
   "execution_count": null,
   "metadata": {},
   "outputs": [],
   "source": []
  },
  {
   "cell_type": "markdown",
   "metadata": {},
   "source": [
    "# DDPG Model Debug"
   ]
  },
  {
   "cell_type": "code",
   "execution_count": null,
   "metadata": {},
   "outputs": [],
   "source": []
  }
 ],
 "metadata": {
  "kernelspec": {
   "display_name": "Python 3",
   "language": "python",
   "name": "python3"
  },
  "language_info": {
   "codemirror_mode": {
    "name": "ipython",
    "version": 3
   },
   "file_extension": ".py",
   "mimetype": "text/x-python",
   "name": "python",
   "nbconvert_exporter": "python",
   "pygments_lexer": "ipython3",
   "version": "3.8.5"
  }
 },
 "nbformat": 4,
 "nbformat_minor": 4
}
