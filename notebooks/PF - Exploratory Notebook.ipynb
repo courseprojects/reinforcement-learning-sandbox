{
 "cells": [
  {
   "cell_type": "markdown",
   "metadata": {},
   "source": [
    "# Exploration"
   ]
  },
  {
   "cell_type": "code",
   "execution_count": null,
   "metadata": {},
   "outputs": [],
   "source": [
    "import robosuite as suite\n",
    "import numpy as np\n",
    "\n",
    "import torch \n",
    "import torch.nn as nn\n",
    "import torch.nn.functional as F\n",
    "import torch.optim as optim\n",
    "import torch.distributions as dist\n",
    "from torch.autograd import Variable"
   ]
  },
  {
   "cell_type": "code",
   "execution_count": null,
   "metadata": {},
   "outputs": [],
   "source": [
    "env = suite.make(\n",
    "    env_name=\"Lift\",\n",
    "    robots=\"Panda\",\n",
    "    has_renderer=False,\n",
    "    has_offscreen_renderer=False,\n",
    "    use_camera_obs=False,\n",
    "    use_object_obs=True,                    \n",
    "    horizon = 200, \n",
    "    reward_shaping=True                 \n",
    ")\n",
    "\n",
    "obs = env.reset()\n",
    "done = False       \n"
   ]
  },
  {
   "cell_type": "markdown",
   "metadata": {},
   "source": [
    "# REINFORCE Model Debug"
   ]
  },
  {
   "cell_type": "code",
   "execution_count": 1,
   "metadata": {},
   "outputs": [],
   "source": [
    "import robosuite as suite\n",
    "import numpy as np\n",
    "import math\n",
    "\n",
    "import torch \n",
    "import torch.nn as nn\n",
    "import torch.nn.functional as F\n",
    "import torch.optim as optim\n",
    "import torch.distributions as dist\n",
    "from torch.autograd import Variable\n",
    "device = torch.device(\"cuda\" if torch.cuda.is_available() else \"cpu\")\n",
    "\n",
    "pi = Variable(torch.FloatTensor([math.pi])).to(device)\n",
    "\n",
    "def normal(x, mu, sigma_sq):\n",
    "    a = (-1*(Variable(x)-mu).pow(2)/(2*sigma_sq)).exp()\n",
    "    b = 1/(2*sigma_sq*pi).sqrt()\n",
    "    return a*b\n",
    "    \n",
    "\n",
    "class REINFORCEPolicy(nn.Module):\n",
    "    '''\n",
    "    This class represent our policy parameterization.\n",
    "    '''\n",
    "    def __init__(self, state_dim,action_dim,hidden_size):\n",
    "        super(REINFORCEPolicy, self).__init__()\n",
    "        self.state_dim = state_dim\n",
    "        self.action_dim = action_dim\n",
    "        self.hidden_size = hidden_size\n",
    "        \n",
    "        self.l1 = nn.Linear(self.state_dim, self.hidden_size)\n",
    "        self.l2 = nn.Linear(self.hidden_size, self.hidden_size//2)\n",
    "        self.l3 = nn.Linear(self.hidden_size//2, self.action_dim)\n",
    "        self.l3_ = nn.Linear(self.hidden_size//2, self.action_dim)\n",
    "        self.d1 = nn.Dropout(0.5)\n",
    "        self.d2 = nn.Dropout(0.5)\n",
    "\n",
    "    def forward(self,x):\n",
    "        out = F.relu(self.d1(self.l1(x)))\n",
    "        out = F.relu(self.d2(self.l2(out)))\n",
    "        mu = self.l3(out)\n",
    "        sigma_sq = self.l3_(out)\n",
    "        return mu, sigma_sq\n",
    "    \n",
    "    \n",
    "class REINFORCE:\n",
    "    '''\n",
    "    This class encapsulates functionality required to run the REINFORCE algorithm.\n",
    "    '''\n",
    "    def __init__(self, state_dim,action_dim, gamma, lr, episodes, horizon, hidden_size):\n",
    "        self.state_dim = state_dim\n",
    "        self.action_dim = action_dim\n",
    "        self.hidden_size = hidden_size\n",
    "        self.lr = lr\n",
    "        self.model = REINFORCEPolicy(state_dim, action_dim,hidden_size)\n",
    "        self.model = self.model.to(device)\n",
    "        self.optimizer = optim.Adam(self.model.parameters(), lr = self.lr)\n",
    "        self.model.train()\n",
    "        \n",
    "        self.gamma = gamma\n",
    "        self.episodes = episodes\n",
    "        self.horizon = horizon\n",
    "        \n",
    "        \n",
    "    def select_action(self, state):\n",
    "        actions = []\n",
    "        log_probs = []\n",
    "        mu , sigma_sq = self.model(Variable(state).to(device)) \n",
    "        for i in range(self.action_dim):\n",
    "            mu_ = mu[i]\n",
    "            sigma_sq_ = sigma_sq[i]\n",
    "            sigma_sq_ = F.softplus(sigma_sq_) # ensures that the estimate is always positive\n",
    "\n",
    "            eps = torch.randn(mu_.size())\n",
    "            action = (mu_ + sigma_sq_.sqrt()*Variable(eps).to(device)).data\n",
    "            prob = normal(action, mu_, sigma_sq_)\n",
    "            log_prob = prob.log()\n",
    "            actions.append(action)\n",
    "            log_probs.append(log_prob)\n",
    "        \n",
    "        return actions, log_probs\n",
    "    \n",
    "\n",
    "    def episode_update_parameters(self, rewards, log_probs):\n",
    "        R = torch.zeros(1, 1)\n",
    "        loss = torch.zeros(self.action_dim)\n",
    "        for i in reversed(range(self.horizon)):\n",
    "            R = self.gamma * R + rewards[0][i]\n",
    "            for j in range(self.action_dim):\n",
    "                loss[j] = loss[j] - (log_probs[0][i][j]*(Variable(R.data.squeeze()).expand_as(log_probs[0][i][j])).to(device)).sum()\n",
    "        loss = loss.sum()\n",
    "        loss = loss / len(rewards)\n",
    "\n",
    "        self.optimizer.zero_grad()\n",
    "        loss.backward()\n",
    "        self.optimizer.step()\n",
    "        \n",
    "        \n",
    "    def epoch_update_parameters(self, rewards, log_probs):\n",
    "        R = torch.zeros(self.episodes)\n",
    "        loss = torch.zeros(self.episodes,self.action_dim)\n",
    "        for episode in range(self.episodes):\n",
    "            for i in reversed(range(self.horizon)):\n",
    "                R[episode] = self.gamma * R[episode] + rewards[episode][i]\n",
    "                for j in range(self.action_dim):\n",
    "                    loss[episode][j] = loss[episode][j] - (log_probs[episode][i][j]*(Variable(R[episode].data.squeeze()).expand_as(log_probs[episode][i][j])).to(device)).sum()\n",
    "        \n",
    "        loss = loss.sum(dim=0)/self.episodes\n",
    "        loss = loss.sum()\n",
    "\n",
    "\n",
    "        self.optimizer.zero_grad()\n",
    "        loss.backward()\n",
    "        self.optimizer.step()"
   ]
  },
  {
   "cell_type": "code",
   "execution_count": null,
   "metadata": {},
   "outputs": [
    {
     "name": "stdout",
     "output_type": "stream",
     "text": [
      "Creating window glfw\n",
      "Creating window glfw\n",
      "Creating window glfw\n"
     ]
    }
   ],
   "source": [
    "#from models.REINFORCE import REINFORCE\n",
    "\n",
    "device = torch.device(\"cuda\" if torch.cuda.is_available() else \"cpu\")\n",
    "\n",
    "env = suite.make(\n",
    "    env_name=\"Lift\",\n",
    "    robots=\"Panda\",\n",
    "    has_renderer=True,\n",
    "    has_offscreen_renderer=False,\n",
    "    use_camera_obs=False,\n",
    "    use_object_obs=True,                    \n",
    "    horizon = 150, \n",
    "    reward_shaping=True                 \n",
    ")\n",
    "obs = env.reset()\n",
    "state_dim = obs['robot0_robot-state'].shape[0]+obs['object-state'].shape[0]\n",
    "\n",
    "\n",
    "agent = REINFORCE(state_dim,env.action_dim,0.9,0.001,100,200,256)\n",
    "agent.model.load_state_dict(torch.load('/Users/peterfagan/Downloads/REINFORCE_3.pkl'))\n",
    "\n",
    "obs=env.reset()\n",
    "state = torch.Tensor(np.append(obs['robot0_robot-state'],obs['object-state']))\n",
    "done=False\n",
    "while done==False: \n",
    "    action, log_prob = agent.select_action(state)\n",
    "    obs, reward, done, info = env.step(action)\n",
    "    env.render()\n",
    "\n",
    "\n"
   ]
  },
  {
   "cell_type": "code",
   "execution_count": 5,
   "metadata": {},
   "outputs": [
    {
     "name": "stdout",
     "output_type": "stream",
     "text": [
      "Creating window glfw\n",
      "Creating window glfw\n"
     ]
    },
    {
     "ename": "TypeError",
     "evalue": "__init__() missing 4 required positional arguments: 'lr', 'episodes', 'horizon', and 'hidden_size'",
     "output_type": "error",
     "traceback": [
      "\u001b[0;31m----------------------------------------------------\u001b[0m",
      "\u001b[0;31mTypeError\u001b[0m          Traceback (most recent call last)",
      "\u001b[0;32m<ipython-input-5-a8ed7e56b9b7>\u001b[0m in \u001b[0;36m<module>\u001b[0;34m\u001b[0m\n\u001b[1;32m     17\u001b[0m \u001b[0;34m\u001b[0m\u001b[0m\n\u001b[1;32m     18\u001b[0m \u001b[0;34m\u001b[0m\u001b[0m\n\u001b[0;32m---> 19\u001b[0;31m \u001b[0magent\u001b[0m \u001b[0;34m=\u001b[0m \u001b[0mREINFORCE\u001b[0m\u001b[0;34m(\u001b[0m\u001b[0mstate_dim\u001b[0m\u001b[0;34m,\u001b[0m\u001b[0menv\u001b[0m\u001b[0;34m.\u001b[0m\u001b[0maction_dim\u001b[0m\u001b[0;34m,\u001b[0m\u001b[0;36m0.9\u001b[0m\u001b[0;34m,\u001b[0m\u001b[0;34m)\u001b[0m\u001b[0;34m\u001b[0m\u001b[0;34m\u001b[0m\u001b[0m\n\u001b[0m\u001b[1;32m     20\u001b[0m \u001b[0;34m\u001b[0m\u001b[0m\n\u001b[1;32m     21\u001b[0m \u001b[0mlog_probs\u001b[0m \u001b[0;34m=\u001b[0m \u001b[0;34m[\u001b[0m\u001b[0;34m[\u001b[0m\u001b[0;34m]\u001b[0m \u001b[0;32mfor\u001b[0m \u001b[0mi\u001b[0m \u001b[0;32min\u001b[0m \u001b[0mrange\u001b[0m\u001b[0;34m(\u001b[0m\u001b[0;36m2\u001b[0m\u001b[0;34m)\u001b[0m\u001b[0;34m]\u001b[0m\u001b[0;34m\u001b[0m\u001b[0;34m\u001b[0m\u001b[0m\n",
      "\u001b[0;31mTypeError\u001b[0m: __init__() missing 4 required positional arguments: 'lr', 'episodes', 'horizon', and 'hidden_size'"
     ]
    }
   ],
   "source": [
    "#from models.REINFORCE import REINFORCE\n",
    "\n",
    "device = torch.device(\"cuda\" if torch.cuda.is_available() else \"cpu\")\n",
    "\n",
    "env = suite.make(\n",
    "    env_name=\"Lift\",\n",
    "    robots=\"Panda\",\n",
    "    has_renderer=True,\n",
    "    has_offscreen_renderer=False,\n",
    "    use_camera_obs=False,\n",
    "    use_object_obs=True,                    \n",
    "    horizon = 20, \n",
    "    reward_shaping=True                 \n",
    ")\n",
    "obs = env.reset()\n",
    "state_dim = obs['robot0_robot-state'].shape[0]+obs['object-state'].shape[0]\n",
    "\n",
    "\n",
    "agent = REINFORCE(state_dim,env.action_dim,0.9,)\n",
    "\n",
    "log_probs = [[] for i in range(2)]\n",
    "rewards = [[] for i in range(2)]\n",
    "for episode in range(2):\n",
    "    obs=env.reset()\n",
    "    state = torch.Tensor(np.append(obs['robot0_robot-state'],obs['object-state']))\n",
    "    done=False\n",
    "    while done==False: \n",
    "        action, log_prob = agent.select_action(state)\n",
    "        obs, reward, done, info = env.step(action)\n",
    "        log_probs[episode].append(log_prob)\n",
    "        rewards[episode].append(reward)\n",
    "        \n",
    "agent.epoch_update_parameters(rewards, log_probs)\n",
    "print('Episode: {}, Rewards: {}'.format(episode, np.mean(rewards)))"
   ]
  },
  {
   "cell_type": "code",
   "execution_count": null,
   "metadata": {},
   "outputs": [],
   "source": [
    "np.sum(rewards,axis=1).mean()"
   ]
  },
  {
   "cell_type": "code",
   "execution_count": null,
   "metadata": {},
   "outputs": [],
   "source": [
    "len(log_probs[0])"
   ]
  },
  {
   "cell_type": "code",
   "execution_count": null,
   "metadata": {},
   "outputs": [],
   "source": [
    "len(log_probs[0])"
   ]
  },
  {
   "cell_type": "code",
   "execution_count": null,
   "metadata": {},
   "outputs": [],
   "source": []
  },
  {
   "cell_type": "code",
   "execution_count": null,
   "metadata": {},
   "outputs": [],
   "source": []
  },
  {
   "cell_type": "code",
   "execution_count": null,
   "metadata": {},
   "outputs": [],
   "source": [
    "episodes = 2\n",
    "horizon = 20\n",
    "gamma = 0.99\n",
    "R = torch.zeros(episodes)\n",
    "loss = torch.zeros(episodes,8)"
   ]
  },
  {
   "cell_type": "code",
   "execution_count": null,
   "metadata": {},
   "outputs": [],
   "source": [
    "for episode in range(episodes):\n",
    "            for i in reversed(range(horizon)):\n",
    "                R[episode] = gamma * R[episode] + rewards[(episode*horizon)+i]\n",
    "                for j in range(8):\n",
    "                    loss[episode][j] = loss[episode][j] - (log_probs[(episode*horizon)+i][j]*(Variable(R[episode].data.squeeze()).expand_as(log_probs[(episode*horizon)+i][j])).to(device)).sum()\n",
    "loss = loss.sum(dim=0)/episodes\n",
    "loss = loss.sum()\n",
    "\n",
    "self.optimizer.zero_grad()\n",
    "loss.backward()\n",
    "self.optimizer.step()"
   ]
  },
  {
   "cell_type": "code",
   "execution_count": null,
   "metadata": {},
   "outputs": [],
   "source": [
    "loss.sum(dim=0)"
   ]
  },
  {
   "cell_type": "code",
   "execution_count": null,
   "metadata": {},
   "outputs": [],
   "source": [
    "loss[0][episode][0]"
   ]
  },
  {
   "cell_type": "code",
   "execution_count": null,
   "metadata": {},
   "outputs": [],
   "source": [
    "R"
   ]
  },
  {
   "cell_type": "code",
   "execution_count": null,
   "metadata": {},
   "outputs": [],
   "source": [
    "rewards"
   ]
  },
  {
   "cell_type": "code",
   "execution_count": null,
   "metadata": {},
   "outputs": [],
   "source": [
    "torch.save(agent.model.state_dict(),'model_params.pkl')"
   ]
  },
  {
   "cell_type": "markdown",
   "metadata": {},
   "source": [
    "## Observing learnt behavior"
   ]
  },
  {
   "cell_type": "code",
   "execution_count": null,
   "metadata": {},
   "outputs": [],
   "source": [
    "env = suite.make(\n",
    "    env_name=\"Lift\",\n",
    "    robots=\"Panda\",\n",
    "    has_renderer=True,\n",
    "    has_offscreen_renderer=False,\n",
    "    use_camera_obs=False,\n",
    "    use_object_obs=True,                    \n",
    "    horizon = 200, \n",
    "    reward_shaping=True                 \n",
    ")\n",
    "obs=env.reset()\n",
    "state = torch.Tensor(np.append(obs['robot0_robot-state'],obs['object-state']))\n",
    "done=False\n",
    "log_probs = []\n",
    "rewards = []\n",
    "while done==False: \n",
    "    action, log_prob = agent.select_action(state)\n",
    "    obs, reward, done, info = env.step(action)\n",
    "    log_probs.append(log_prob)\n",
    "    rewards.append(reward)\n",
    "    env.render()"
   ]
  },
  {
   "cell_type": "code",
   "execution_count": null,
   "metadata": {},
   "outputs": [],
   "source": []
  },
  {
   "cell_type": "code",
   "execution_count": null,
   "metadata": {},
   "outputs": [],
   "source": []
  },
  {
   "cell_type": "code",
   "execution_count": null,
   "metadata": {},
   "outputs": [],
   "source": [
    "torch.zeros(1,5,3)"
   ]
  },
  {
   "cell_type": "markdown",
   "metadata": {},
   "source": [
    "# PPO Model Debug"
   ]
  },
  {
   "cell_type": "code",
   "execution_count": null,
   "metadata": {},
   "outputs": [],
   "source": []
  },
  {
   "cell_type": "markdown",
   "metadata": {},
   "source": [
    "# DDPG Model Debug"
   ]
  },
  {
   "cell_type": "code",
   "execution_count": null,
   "metadata": {},
   "outputs": [],
   "source": []
  }
 ],
 "metadata": {
  "kernelspec": {
   "display_name": "Python 3",
   "language": "python",
   "name": "python3"
  },
  "language_info": {
   "codemirror_mode": {
    "name": "ipython",
    "version": 3
   },
   "file_extension": ".py",
   "mimetype": "text/x-python",
   "name": "python",
   "nbconvert_exporter": "python",
   "pygments_lexer": "ipython3",
   "version": "3.8.5"
  }
 },
 "nbformat": 4,
 "nbformat_minor": 4
}
